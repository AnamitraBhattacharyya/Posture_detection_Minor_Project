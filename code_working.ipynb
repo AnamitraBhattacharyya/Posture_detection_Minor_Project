{
 "cells": [
  {
   "cell_type": "code",
   "execution_count": 1,
   "id": "adbf1a4a-54de-4c23-b68e-5fdde257b642",
   "metadata": {},
   "outputs": [],
   "source": [
    "import cv2\n",
    "import time\n",
    "import math as m\n",
    "import mediapipe as mp"
   ]
  },
  {
   "cell_type": "code",
   "execution_count": 2,
   "id": "c1383cb7-e74d-479d-97ef-8ea849fee64e",
   "metadata": {},
   "outputs": [],
   "source": [
    "# Initilize medipipe selfie segmentation class.\n",
    "mp_pose = mp.solutions.pose\n",
    "mp_holistic = mp.solutions.holistic"
   ]
  },
  {
   "cell_type": "code",
   "execution_count": 3,
   "id": "2ade2164-8e23-44a4-a088-f015e301dfd4",
   "metadata": {},
   "outputs": [],
   "source": [
    "def findDistance(x1, y1, x2, y2):\n",
    "    dist = m.sqrt((x2-x1)**2+(y2-y1)**2)\n",
    "    return dist"
   ]
  },
  {
   "cell_type": "code",
   "execution_count": 4,
   "id": "33778414-5401-4e58-a2dc-be6c26bfd58b",
   "metadata": {},
   "outputs": [],
   "source": [
    "# Calculate angle.\n",
    "def findAngle(x1, y1, x2, y2):\n",
    "    theta = m.acos((y2 -y1)*(-y1) / (m.sqrt((x2 - x1)**2 + (y2 - y1)**2) * y1))\n",
    "    degree = int(180/m.pi)*theta\n",
    "    return degree"
   ]
  },
  {
   "cell_type": "code",
   "execution_count": 5,
   "id": "517e44ca-e12f-4968-9982-ec8d06e48874",
   "metadata": {},
   "outputs": [],
   "source": [
    "def sendWarning(x):\n",
    "    pass"
   ]
  },
  {
   "cell_type": "code",
   "execution_count": 6,
   "id": "789aa34c-b8ce-4b24-a5e3-eff5617036ac",
   "metadata": {},
   "outputs": [],
   "source": [
    "# Initilize frame counters.\n",
    "good_frames = 0\n",
    "bad_frames = 0\n",
    "\n",
    "# Font type.\n",
    "font = cv2.FONT_HERSHEY_SIMPLEX\n",
    "\n",
    "# Colors.\n",
    "blue = (255, 127, 0)\n",
    "red = (50, 50, 255)\n",
    "green = (127, 255, 0)\n",
    "dark_blue = (127, 20, 0)\n",
    "light_green = (127, 233, 100)\n",
    "yellow = (0, 255, 255)\n",
    "pink = (255, 0, 255)"
   ]
  },
  {
   "cell_type": "code",
   "execution_count": null,
   "id": "92d26847-03ab-4c9a-b3ae-58e477c93a5d",
   "metadata": {},
   "outputs": [],
   "source": [
    "# Initialize mediapipe pose class.\n",
    "mp_pose = mp.solutions.pose\n",
    "pose = mp_pose.Pose()\n",
    "\n",
    "# Initialize video capture object.\n",
    "# For inbuilt webcam input replace file name with 0. For external camera make it 1. \n",
    "file_name = 'input.mp4'\n",
    "video = cv2.VideoCapture(1)\n",
    "\n",
    "# Meta.\n",
    "fps = int(video.get(cv2.CAP_PROP_FPS))\n",
    "width = int(video.get(cv2.CAP_PROP_FRAME_WIDTH))\n",
    "height = int(video.get(cv2.CAP_PROP_FRAME_HEIGHT))\n",
    "frame_size = (width, height)\n",
    "fourcc = cv2.VideoWriter_fourcc(*'mp4v')\n",
    "\n",
    "# Initialize video writer.\n",
    "video_output = cv2.VideoWriter('output.mp4', fourcc, fps, frame_size)"
   ]
  },
  {
   "cell_type": "code",
   "execution_count": 8,
   "id": "bb98ad9e-6773-4a71-833e-9728ffa95768",
   "metadata": {},
   "outputs": [
    {
     "name": "stdout",
     "output_type": "stream",
     "text": [
      "Processing..\n"
     ]
    },
    {
     "ename": "ZeroDivisionError",
     "evalue": "float division by zero",
     "output_type": "error",
     "traceback": [
      "\u001b[1;31m---------------------------------------------------------------------------\u001b[0m",
      "\u001b[1;31mZeroDivisionError\u001b[0m                         Traceback (most recent call last)",
      "Cell \u001b[1;32mIn[8], line 40\u001b[0m\n\u001b[0;32m     38\u001b[0m offset \u001b[38;5;241m=\u001b[39m findDistance(l_shldr_x, l_shldr_y, r_shldr_x, r_shldr_y)\n\u001b[0;32m     39\u001b[0m neck_inclination \u001b[38;5;241m=\u001b[39m findAngle(l_shldr_x, l_shldr_y, l_ear_x, l_ear_y)\n\u001b[1;32m---> 40\u001b[0m torso_inclination \u001b[38;5;241m=\u001b[39m \u001b[43mfindAngle\u001b[49m\u001b[43m(\u001b[49m\u001b[43ml_hip_x\u001b[49m\u001b[43m,\u001b[49m\u001b[43m \u001b[49m\u001b[43ml_hip_y\u001b[49m\u001b[43m,\u001b[49m\u001b[43m \u001b[49m\u001b[43ml_shldr_x\u001b[49m\u001b[43m,\u001b[49m\u001b[43m \u001b[49m\u001b[43ml_shldr_y\u001b[49m\u001b[43m)\u001b[49m\n\u001b[0;32m     42\u001b[0m \u001b[38;5;66;03m# Draw landmarks\u001b[39;00m\n\u001b[0;32m     43\u001b[0m cv2\u001b[38;5;241m.\u001b[39mcircle(frame, (l_shldr_x, l_shldr_y), \u001b[38;5;241m7\u001b[39m, yellow, \u001b[38;5;241m-\u001b[39m\u001b[38;5;241m1\u001b[39m)\n",
      "Cell \u001b[1;32mIn[4], line 3\u001b[0m, in \u001b[0;36mfindAngle\u001b[1;34m(x1, y1, x2, y2)\u001b[0m\n\u001b[0;32m      2\u001b[0m \u001b[38;5;28;01mdef\u001b[39;00m \u001b[38;5;21mfindAngle\u001b[39m(x1, y1, x2, y2):\n\u001b[1;32m----> 3\u001b[0m     theta \u001b[38;5;241m=\u001b[39m m\u001b[38;5;241m.\u001b[39macos(\u001b[43m(\u001b[49m\u001b[43my2\u001b[49m\u001b[43m \u001b[49m\u001b[38;5;241;43m-\u001b[39;49m\u001b[43my1\u001b[49m\u001b[43m)\u001b[49m\u001b[38;5;241;43m*\u001b[39;49m\u001b[43m(\u001b[49m\u001b[38;5;241;43m-\u001b[39;49m\u001b[43my1\u001b[49m\u001b[43m)\u001b[49m\u001b[43m \u001b[49m\u001b[38;5;241;43m/\u001b[39;49m\u001b[43m \u001b[49m\u001b[43m(\u001b[49m\u001b[43mm\u001b[49m\u001b[38;5;241;43m.\u001b[39;49m\u001b[43msqrt\u001b[49m\u001b[43m(\u001b[49m\u001b[43m(\u001b[49m\u001b[43mx2\u001b[49m\u001b[43m \u001b[49m\u001b[38;5;241;43m-\u001b[39;49m\u001b[43m \u001b[49m\u001b[43mx1\u001b[49m\u001b[43m)\u001b[49m\u001b[38;5;241;43m*\u001b[39;49m\u001b[38;5;241;43m*\u001b[39;49m\u001b[38;5;241;43m2\u001b[39;49m\u001b[43m \u001b[49m\u001b[38;5;241;43m+\u001b[39;49m\u001b[43m \u001b[49m\u001b[43m(\u001b[49m\u001b[43my2\u001b[49m\u001b[43m \u001b[49m\u001b[38;5;241;43m-\u001b[39;49m\u001b[43m \u001b[49m\u001b[43my1\u001b[49m\u001b[43m)\u001b[49m\u001b[38;5;241;43m*\u001b[39;49m\u001b[38;5;241;43m*\u001b[39;49m\u001b[38;5;241;43m2\u001b[39;49m\u001b[43m)\u001b[49m\u001b[43m \u001b[49m\u001b[38;5;241;43m*\u001b[39;49m\u001b[43m \u001b[49m\u001b[43my1\u001b[49m\u001b[43m)\u001b[49m)\n\u001b[0;32m      4\u001b[0m     degree \u001b[38;5;241m=\u001b[39m \u001b[38;5;28mint\u001b[39m(\u001b[38;5;241m180\u001b[39m\u001b[38;5;241m/\u001b[39mm\u001b[38;5;241m.\u001b[39mpi)\u001b[38;5;241m*\u001b[39mtheta\n\u001b[0;32m      5\u001b[0m     \u001b[38;5;28;01mreturn\u001b[39;00m degree\n",
      "\u001b[1;31mZeroDivisionError\u001b[0m: float division by zero"
     ]
    }
   ],
   "source": [
    "print('Processing..')\n",
    "while video.isOpened():\n",
    "    success, frame = video.read()\n",
    "    if not success:\n",
    "        print(\"Null.Frames\")\n",
    "        break\n",
    "    \n",
    "    # Get fps\n",
    "    fps = video.get(cv2.CAP_PROP_FPS)\n",
    "    # Get height and width\n",
    "    h, w = frame.shape[:2]\n",
    "\n",
    "    # Convert BGR to RGB\n",
    "    frame = cv2.cvtColor(frame, cv2.COLOR_BGR2RGB)\n",
    "\n",
    "    # Process the image\n",
    "    keypoints = pose.process(frame)\n",
    "\n",
    "    # Convert back to BGR\n",
    "    frame = cv2.cvtColor(frame, cv2.COLOR_RGB2BGR)\n",
    "\n",
    "    # Get pose landmarks\n",
    "    lm = keypoints.pose_landmarks\n",
    "    lmPose = mp_pose.PoseLandmark\n",
    "\n",
    "    if lm:  # Ensure landmarks exist before accessing them\n",
    "        # Extract keypoints\n",
    "        l_shldr_x = int(lm.landmark[lmPose.LEFT_SHOULDER].x * w)\n",
    "        l_shldr_y = int(lm.landmark[lmPose.LEFT_SHOULDER].y * h)\n",
    "        r_shldr_x = int(lm.landmark[lmPose.RIGHT_SHOULDER].x * w)\n",
    "        r_shldr_y = int(lm.landmark[lmPose.RIGHT_SHOULDER].y * h)\n",
    "        l_ear_x = int(lm.landmark[lmPose.LEFT_EAR].x * w)\n",
    "        l_ear_y = int(lm.landmark[lmPose.LEFT_EAR].y * h)\n",
    "        l_hip_x = int(lm.landmark[lmPose.LEFT_HIP].x * w)\n",
    "        l_hip_y = int(lm.landmark[lmPose.LEFT_HIP].y * h)\n",
    "\n",
    "        # Calculate distances & angles\n",
    "        offset = findDistance(l_shldr_x, l_shldr_y, r_shldr_x, r_shldr_y)\n",
    "        neck_inclination = findAngle(l_shldr_x, l_shldr_y, l_ear_x, l_ear_y)\n",
    "        torso_inclination = findAngle(l_hip_x, l_hip_y, l_shldr_x, l_shldr_y)\n",
    "\n",
    "        # Draw landmarks\n",
    "        cv2.circle(frame, (l_shldr_x, l_shldr_y), 7, yellow, -1)\n",
    "        cv2.circle(frame, (l_ear_x, l_ear_y), 7, yellow, -1)\n",
    "        cv2.circle(frame, (l_shldr_x, l_shldr_y - 100), 7, yellow, -1)\n",
    "        cv2.circle(frame, (r_shldr_x, r_shldr_y), 7, pink, -1)\n",
    "        cv2.circle(frame, (l_hip_x, l_hip_y), 7, yellow, -1)\n",
    "        cv2.circle(frame, (l_hip_x, l_hip_y - 100), 7, yellow, -1)\n",
    "\n",
    "        # Posture assessment\n",
    "        if neck_inclination < 40 and torso_inclination < 10:\n",
    "            bad_frames = 0\n",
    "            good_frames += 1\n",
    "            cv2.putText(frame, \"Good Posture\", (10, 30), font, 0.9, light_green, 2)\n",
    "        else:\n",
    "            good_frames = 0\n",
    "            bad_frames += 1\n",
    "            cv2.putText(frame, \"Bad Posture\", (10, 30), font, 0.9, red, 2)\n",
    "\n",
    "        # Timer display\n",
    "        good_time = (1 / fps) * good_frames\n",
    "        bad_time = (1 / fps) * bad_frames\n",
    "        if bad_time > 180:\n",
    "            sendWarning()\n",
    "\n",
    "    # **Display the frame**\n",
    "    cv2.imshow('Posture Detection', frame)\n",
    "\n",
    "    # **Break the loop when 'q' is pressed**\n",
    "    if cv2.waitKey(1) & 0xFF == ord('q'):\n",
    "        break\n",
    "\n",
    "    # Write processed frame to output\n",
    "    video_output.write(frame)\n",
    "\n",
    "print('Finished.')\n",
    "video.release()\n",
    "video_output.release()\n",
    "cv2.destroyAllWindows()  # Ensure all OpenCV windows close properly\n"
   ]
  },
  {
   "cell_type": "code",
   "execution_count": null,
   "id": "5600fc70-8086-48f7-959f-119bd1a1037a",
   "metadata": {},
   "outputs": [],
   "source": []
  }
 ],
 "metadata": {
  "kernelspec": {
   "display_name": "Python 3 (ipykernel)",
   "language": "python",
   "name": "python3"
  },
  "language_info": {
   "codemirror_mode": {
    "name": "ipython",
    "version": 3
   },
   "file_extension": ".py",
   "mimetype": "text/x-python",
   "name": "python",
   "nbconvert_exporter": "python",
   "pygments_lexer": "ipython3",
   "version": "3.12.4"
  }
 },
 "nbformat": 4,
 "nbformat_minor": 5
}
